{
  "cells": [
    {
      "cell_type": "markdown",
      "source": [
        "#IMPORTING MODULES\n"
      ],
      "metadata": {
        "id": "O5SyN1U5hIWY"
      }
    },
    {
      "cell_type": "code",
      "execution_count": null,
      "metadata": {
        "id": "nXLp4fQWCIGd"
      },
      "outputs": [],
      "source": [
        "import os\n",
        "import cv2\n",
        "import numpy as np\n",
        "import tensorflow as tf\n",
        "from tensorflow.keras import layers, models, optimizers\n",
        "from sklearn.model_selection import train_test_split\n",
        "import matplotlib.pyplot as plt"
      ]
    },
    {
      "cell_type": "code",
      "execution_count": null,
      "metadata": {
        "id": "PI5O_ZTKCOjL",
        "colab": {
          "base_uri": "https://localhost:8080/"
        },
        "outputId": "9d3eb5b7-96fa-46cf-e5ab-0485f36b7980"
      },
      "outputs": [
        {
          "output_type": "stream",
          "name": "stdout",
          "text": [
            "Mounted at /content/drive\n"
          ]
        }
      ],
      "source": [
        "from google.colab import drive\n",
        "drive.mount('/content/drive')"
      ]
    },
    {
      "cell_type": "markdown",
      "source": [
        "#IMAGE IMPORTING AND PREPROCESSING"
      ],
      "metadata": {
        "id": "zNs-XHCYhXj7"
      }
    },
    {
      "cell_type": "code",
      "execution_count": null,
      "metadata": {
        "id": "VI0IVNQSCQ2e"
      },
      "outputs": [],
      "source": [
        "train_dir = '/content/drive/MyDrive/TRAIN'\n",
        "test_dir = '/content/drive/MyDrive/TEST'"
      ]
    },
    {
      "cell_type": "code",
      "execution_count": null,
      "metadata": {
        "id": "wIt2PgNbCXIh"
      },
      "outputs": [],
      "source": [
        "image_height = 64\n",
        "image_width = 64\n",
        "def preprocess_image(image_path):\n",
        "    image = cv2.imread(image_path)\n",
        "    image = cv2.cvtColor(image, cv2.COLOR_BGR2RGB)  # Convert image to RGB format\n",
        "    image = cv2.resize(image, (image_height, image_width))  # Resize image\n",
        "    image = image / 255.0  # Normalize image pixels to the range [0, 1]\n",
        "    return image\n",
        "def load_images_from_directory(directory):\n",
        "    images = []\n",
        "    labels = []\n",
        "    for class_dir in os.listdir(directory):\n",
        "        class_path = os.path.join(directory, class_dir)\n",
        "        if os.path.isdir(class_path):\n",
        "            for filename in os.listdir(class_path):\n",
        "                if filename.endswith('.jpg') or filename.endswith('.png'):\n",
        "                    image_path = os.path.join(class_path, filename)\n",
        "                    image = preprocess_image(image_path)\n",
        "                    images.append(image)\n",
        "                    labels.append(class_dir)\n",
        "    return images, labels"
      ]
    },
    {
      "cell_type": "code",
      "execution_count": null,
      "metadata": {
        "id": "UZ4FrelHCYCf"
      },
      "outputs": [],
      "source": [
        "# Load images and labels from the training directory\n",
        "train_images, train_labels = load_images_from_directory(train_dir)\n",
        "\n",
        "# Load images and labels from the test directory\n",
        "test_images, test_labels = load_images_from_directory(test_dir)\n",
        "\n",
        "# Combine training and test images and labels\n",
        "X_train = np.array(train_images)\n",
        "y_train = np.array(train_labels)\n",
        "X_test = np.array(test_images)\n",
        "y_test = np.array(test_labels)\n"
      ]
    },
    {
      "cell_type": "code",
      "execution_count": null,
      "metadata": {
        "id": "U5c2zc8yCbLi"
      },
      "outputs": [],
      "source": [
        "label_to_index = {'happy': 0, 'neutral': 1, 'sad': 2}\n",
        "y_train_categorical = tf.keras.utils.to_categorical([label_to_index[label] for label in y_train])\n",
        "y_test_categorical = tf.keras.utils.to_categorical([label_to_index[label] for label in y_test])"
      ]
    },
    {
      "cell_type": "markdown",
      "source": [
        "#MODEL BUILDING"
      ],
      "metadata": {
        "id": "h1ESlFjvhkLl"
      }
    },
    {
      "cell_type": "code",
      "execution_count": null,
      "metadata": {
        "colab": {
          "base_uri": "https://localhost:8080/"
        },
        "id": "Q3OpK-oGCeNW",
        "outputId": "65d14ff1-a2e7-4956-b393-2ef85f864b99"
      },
      "outputs": [
        {
          "output_type": "stream",
          "name": "stdout",
          "text": [
            "Model: \"sequential_2\"\n",
            "_________________________________________________________________\n",
            " Layer (type)                Output Shape              Param #   \n",
            "=================================================================\n",
            " conv2d_5 (Conv2D)           (None, 62, 62, 32)        896       \n",
            "                                                                 \n",
            " dropout_1 (Dropout)         (None, 62, 62, 32)        0         \n",
            "                                                                 \n",
            " max_pooling2d_4 (MaxPooling  (None, 31, 31, 32)       0         \n",
            " 2D)                                                             \n",
            "                                                                 \n",
            " conv2d_6 (Conv2D)           (None, 29, 29, 64)        18496     \n",
            "                                                                 \n",
            " dropout_2 (Dropout)         (None, 29, 29, 64)        0         \n",
            "                                                                 \n",
            " max_pooling2d_5 (MaxPooling  (None, 14, 14, 64)       0         \n",
            " 2D)                                                             \n",
            "                                                                 \n",
            " conv2d_7 (Conv2D)           (None, 12, 12, 128)       73856     \n",
            "                                                                 \n",
            " dropout_3 (Dropout)         (None, 12, 12, 128)       0         \n",
            "                                                                 \n",
            " max_pooling2d_6 (MaxPooling  (None, 6, 6, 128)        0         \n",
            " 2D)                                                             \n",
            "                                                                 \n",
            " conv2d_8 (Conv2D)           (None, 4, 4, 128)         147584    \n",
            "                                                                 \n",
            " dropout_4 (Dropout)         (None, 4, 4, 128)         0         \n",
            "                                                                 \n",
            " max_pooling2d_7 (MaxPooling  (None, 2, 2, 128)        0         \n",
            " 2D)                                                             \n",
            "                                                                 \n",
            " flatten_1 (Flatten)         (None, 512)               0         \n",
            "                                                                 \n",
            " dense_2 (Dense)             (None, 256)               131328    \n",
            "                                                                 \n",
            " dropout_5 (Dropout)         (None, 256)               0         \n",
            "                                                                 \n",
            " dense_3 (Dense)             (None, 3)                 771       \n",
            "                                                                 \n",
            "=================================================================\n",
            "Total params: 372,931\n",
            "Trainable params: 372,931\n",
            "Non-trainable params: 0\n",
            "_________________________________________________________________\n"
          ]
        }
      ],
      "source": [
        "model = models.Sequential()\n",
        "model.add(layers.Conv2D(32, (3, 3), activation='relu', input_shape=(64,64, 3)))#1\n",
        "model.add(layers.Dropout(0.15))\n",
        "model.add(layers.MaxPooling2D((2, 2)))\n",
        "model.add(layers.Conv2D(64, (3, 3), activation='relu'))\n",
        "model.add(layers.Dropout(0.25))\n",
        "model.add(layers.MaxPooling2D((2, 2)))\n",
        "model.add(layers.Conv2D(128, (3, 3), activation='relu'))\n",
        "model.add(layers.Dropout(0.1))\n",
        "model.add(layers.MaxPooling2D((2, 2)))\n",
        "model.add(layers.Conv2D(128, (3, 3), activation='relu'))\n",
        "model.add(layers.Dropout(0.2))\n",
        "model.add(layers.MaxPooling2D((2, 2)))\n",
        "model.add(layers.Flatten())\n",
        "model.add(layers.Dense(256, activation='relu'))\n",
        "model.add(layers.Dropout(0.1))\n",
        "model.add(layers.Dense(3, activation='softmax'))\n",
        "model.summary()"
      ]
    },
    {
      "cell_type": "code",
      "source": [
        "import matplotlib.pyplot as plt\n",
        "optimizer_name = 'adam'\n",
        "\n",
        "# Compile and train the model with the selected optimizer\n",
        "model.compile(optimizer=optimizer_name, loss='categorical_crossentropy', metrics=['accuracy'])\n",
        "history = model.fit(X_train, y_train_categorical, epochs=25, batch_size=24, validation_data=(X_test, y_test_categorical),steps_per_epoch=100)\n",
        "\n",
        "plt.figure(figsize=(12, 4))\n",
        "plt.subplot(1, 2, 1)\n",
        "plt.plot(history.history['accuracy'])\n",
        "plt.plot(history.history['val_accuracy'])\n",
        "plt.title(f'Training Accuracy vs. Validation Accuracy ({optimizer_name})')\n",
        "plt.xlabel('Epoch')\n",
        "plt.ylabel('Accuracy')\n",
        "plt.legend(['Train', 'Validation'], loc='upper left')\n",
        "\n",
        "plt.subplot(1, 2, 2)\n",
        "plt.plot(history.history['loss'])\n",
        "plt.plot(history.history['val_loss'])\n",
        "plt.title(f'Training Loss vs. Validation Loss ({optimizer_name})')\n",
        "plt.xlabel('Epoch')\n",
        "plt.ylabel('Loss')\n",
        "plt.legend(['Train', 'Validation'], loc='upper right')\n",
        "\n",
        "plt.tight_layout()\n",
        "plt.show()"
      ],
      "metadata": {
        "colab": {
          "base_uri": "https://localhost:8080/"
        },
        "id": "uEw9_pON3boB",
        "outputId": "d7167009-22ee-44c4-8ff3-22020494af2e"
      },
      "execution_count": null,
      "outputs": [
        {
          "output_type": "stream",
          "name": "stdout",
          "text": [
            "Epoch 1/25\n",
            "100/100 [==============================] - 30s 287ms/step - loss: 1.1007 - accuracy: 0.3537 - val_loss: 1.0968 - val_accuracy: 0.3322\n",
            "Epoch 2/25\n",
            "100/100 [==============================] - 29s 291ms/step - loss: 1.0955 - accuracy: 0.3771 - val_loss: 1.0926 - val_accuracy: 0.3191\n",
            "Epoch 3/25\n",
            "100/100 [==============================] - 28s 282ms/step - loss: 1.0901 - accuracy: 0.3810 - val_loss: 1.0898 - val_accuracy: 0.4145\n",
            "Epoch 4/25\n",
            "100/100 [==============================] - 29s 286ms/step - loss: 1.0820 - accuracy: 0.3996 - val_loss: 1.0787 - val_accuracy: 0.3914\n",
            "Epoch 5/25\n",
            "100/100 [==============================] - 29s 294ms/step - loss: 1.0701 - accuracy: 0.4279 - val_loss: 1.0824 - val_accuracy: 0.3849\n",
            "Epoch 6/25\n",
            "100/100 [==============================] - 28s 284ms/step - loss: 1.0594 - accuracy: 0.4329 - val_loss: 1.0630 - val_accuracy: 0.4441\n",
            "Epoch 7/25\n",
            "100/100 [==============================] - 28s 281ms/step - loss: 1.0234 - accuracy: 0.4676 - val_loss: 1.0269 - val_accuracy: 0.5000\n",
            "Epoch 8/25\n",
            "100/100 [==============================] - 27s 270ms/step - loss: 1.0079 - accuracy: 0.4863 - val_loss: 0.9940 - val_accuracy: 0.5066\n",
            "Epoch 9/25\n",
            "100/100 [==============================] - 27s 271ms/step - loss: 0.9186 - accuracy: 0.5558 - val_loss: 0.9288 - val_accuracy: 0.5296\n",
            "Epoch 10/25\n",
            "100/100 [==============================] - 28s 283ms/step - loss: 0.9349 - accuracy: 0.5500 - val_loss: 0.9039 - val_accuracy: 0.5855\n",
            "Epoch 11/25\n",
            "100/100 [==============================] - 28s 284ms/step - loss: 0.8941 - accuracy: 0.5701 - val_loss: 0.8772 - val_accuracy: 0.5822\n",
            "Epoch 12/25\n",
            "100/100 [==============================] - 28s 282ms/step - loss: 0.8680 - accuracy: 0.5804 - val_loss: 0.8481 - val_accuracy: 0.6349\n",
            "Epoch 13/25\n",
            "100/100 [==============================] - 28s 283ms/step - loss: 0.8088 - accuracy: 0.6261 - val_loss: 0.8422 - val_accuracy: 0.6053\n",
            "Epoch 14/25\n",
            "100/100 [==============================] - 28s 283ms/step - loss: 0.8111 - accuracy: 0.6146 - val_loss: 0.8359 - val_accuracy: 0.5954\n",
            "Epoch 15/25\n",
            "100/100 [==============================] - 28s 284ms/step - loss: 0.8115 - accuracy: 0.6094 - val_loss: 0.8400 - val_accuracy: 0.5724\n",
            "Epoch 16/25\n",
            "100/100 [==============================] - 27s 270ms/step - loss: 0.7813 - accuracy: 0.6421 - val_loss: 0.7890 - val_accuracy: 0.6447\n",
            "Epoch 17/25\n",
            "100/100 [==============================] - 27s 271ms/step - loss: 0.7660 - accuracy: 0.6315 - val_loss: 0.8019 - val_accuracy: 0.6250\n",
            "Epoch 18/25\n",
            "100/100 [==============================] - 28s 284ms/step - loss: 0.7624 - accuracy: 0.6383 - val_loss: 0.7886 - val_accuracy: 0.6184\n",
            "Epoch 19/25\n",
            "100/100 [==============================] - 28s 281ms/step - loss: 0.7342 - accuracy: 0.6729 - val_loss: 0.7712 - val_accuracy: 0.6513\n",
            "Epoch 20/25\n",
            "100/100 [==============================] - 28s 284ms/step - loss: 0.7267 - accuracy: 0.6687 - val_loss: 0.7788 - val_accuracy: 0.6316\n",
            "Epoch 21/25\n",
            "100/100 [==============================] - 28s 282ms/step - loss: 0.7316 - accuracy: 0.6675 - val_loss: 0.7728 - val_accuracy: 0.6579\n",
            "Epoch 22/25\n",
            "100/100 [==============================] - 28s 284ms/step - loss: 0.6875 - accuracy: 0.6888 - val_loss: 0.7667 - val_accuracy: 0.6414\n",
            "Epoch 23/25\n",
            "100/100 [==============================] - 28s 285ms/step - loss: 0.7124 - accuracy: 0.6792 - val_loss: 0.7556 - val_accuracy: 0.6546\n",
            "Epoch 24/25\n",
            " 43/100 [===========>..................] - ETA: 13s - loss: 0.6758 - accuracy: 0.6986"
          ]
        }
      ]
    },
    {
      "cell_type": "code",
      "execution_count": null,
      "metadata": {
        "colab": {
          "base_uri": "https://localhost:8080/"
        },
        "id": "8kH_px8lkdVY",
        "outputId": "ea18b35e-f89e-478e-a17f-b300fb7c1739"
      },
      "outputs": [
        {
          "output_type": "stream",
          "name": "stdout",
          "text": [
            "10/10 [==============================] - 1s 60ms/step - loss: 2.1781 - accuracy: 0.6579\n",
            "Test Loss: 2.1781, Test Accuracy: 0.6579\n"
          ]
        }
      ],
      "source": [
        "test_loss, test_accuracy = model.evaluate(X_test, y_test_categorical)\n",
        "print(f'Test Loss: {test_loss:.4f}, Test Accuracy: {test_accuracy:.4f}')"
      ]
    },
    {
      "cell_type": "markdown",
      "source": [
        "#MODEL TESTING"
      ],
      "metadata": {
        "id": "v_RAaUGlho0l"
      }
    },
    {
      "cell_type": "code",
      "execution_count": null,
      "metadata": {
        "id": "xhIhIf6QHWkM",
        "colab": {
          "base_uri": "https://localhost:8080/",
          "height": 445
        },
        "outputId": "00d4a14e-b4a5-4ded-8d88-6596c8b147ac"
      },
      "outputs": [
        {
          "output_type": "stream",
          "name": "stdout",
          "text": [
            "1/1 [==============================] - 0s 227ms/step\n"
          ]
        },
        {
          "output_type": "display_data",
          "data": {
            "text/plain": [
              "<Figure size 640x480 with 1 Axes>"
            ],
            "image/png": "[encoded data removed]"
          },
          "metadata": {}
        }
      ],
      "source": [
        "image_path = '/content/drive/MyDrive/TEST/happy/im1.png'\n",
        "image = cv2.imread(image_path)\n",
        "image = cv2.cvtColor(image, cv2.COLOR_BGR2RGB)\n",
        "image = cv2.resize(image, (image_height, image_width))\n",
        "image = image / 255.0\n",
        "image = np.expand_dims(image, axis=0)\n",
        "\n",
        "# Make predictions on the new image\n",
        "predictions = model.predict(image)\n",
        "predicted_class_index = np.argmax(predictions[0])\n",
        "class_labels = ['happy', 'neutral', 'sad']\n",
        "predicted_class_label = class_labels[predicted_class_index]\n",
        "\n",
        "# Display the image and predicted class\n",
        "plt.imshow(image[0])\n",
        "plt.axis('off')\n",
        "plt.title('Predicted class: ' + predicted_class_label)\n",
        "plt.show()"
      ]
    },
    {
      "cell_type": "code",
      "execution_count": null,
      "metadata": {
        "colab": {
          "base_uri": "https://localhost:8080/",
          "height": 466
        },
        "id": "ttVHyFhzkr2_",
        "outputId": "e8e19437-a8b2-45eb-95b8-e0fc1ca3aad9"
      },
      "outputs": [
        {
          "output_type": "stream",
          "name": "stdout",
          "text": [
            "10/10 [==============================] - 1s 104ms/step\n"
          ]
        },
        {
          "output_type": "display_data",
          "data": {
            "text/plain": [
              "<Figure size 640x480 with 2 Axes>"
            ],
            "image/png": "[encoded data removed]"
          },
          "metadata": {}
        }
      ],
      "source": [
        "# Get predictions on the test data\n",
        "y_pred = model.predict(X_test)\n",
        "y_pred_labels = np.argmax(y_pred, axis=1)\n",
        "\n",
        "# Get actual labels from the test data\n",
        "y_actual = np.argmax(y_test_categorical, axis=1)\n",
        "\n",
        "# Compute confusion matrix\n",
        "from sklearn import metrics\n",
        "cm = metrics.confusion_matrix(y_actual, y_pred_labels)\n",
        "\n",
        "# Plot confusion matrix\n",
        "disp = metrics.ConfusionMatrixDisplay(confusion_matrix=cm)\n",
        "disp.plot()\n",
        "plt.show()"
      ]
    },
    {
      "cell_type": "code",
      "source": [
        "y_pred_labels = np.argmax(y_pred, axis=1)\n",
        "y_pred = model.predict(X_test)\n",
        "y_pred_labels = np.argmax(y_pred, axis=1)\n",
        "\n",
        "# Get actual labels from the test data\n",
        "y_actual = np.argmax(y_test_categorical, axis=1)\n",
        "\n",
        "# Compute confusion matrix\n",
        "from sklearn import metrics\n",
        "cm = metrics.confusion_matrix(y_actual, y_pred_labels)\n",
        "\n",
        "# Plot confusion matrix\n",
        "disp = metrics.ConfusionMatrixDisplay(confusion_matrix=cm)\n",
        "disp.plot()\n",
        "plt.show()\n",
        "\n",
        "# Generate classification report\n",
        "classification_rep = classification_report(y_actual, y_pred_labels, target_names=class_labels)\n",
        "\n",
        "# Print classification report\n",
        "print(classification_rep)"
      ],
      "metadata": {
        "colab": {
          "base_uri": "https://localhost:8080/",
          "height": 640
        },
        "id": "Nu0KKDEV1-Ij",
        "outputId": "d18901e2-704d-4bcb-9713-37a8bbe85b6c"
      },
      "execution_count": null,
      "outputs": [
        {
          "output_type": "stream",
          "name": "stdout",
          "text": [
            "10/10 [==============================] - 1s 58ms/step\n"
          ]
        },
        {
          "output_type": "display_data",
          "data": {
            "text/plain": [
              "<Figure size 640x480 with 2 Axes>"
            ],
            "image/png": "[encoded data removed]"
          },
          "metadata": {}
        },
        {
          "output_type": "stream",
          "name": "stdout",
          "text": [
            "              precision    recall  f1-score   support\n",
            "\n",
            "       happy       0.77      0.84      0.80       102\n",
            "     neutral       0.59      0.61      0.60       101\n",
            "         sad       0.60      0.51      0.55       101\n",
            "\n",
            "    accuracy                           0.66       304\n",
            "   macro avg       0.65      0.66      0.65       304\n",
            "weighted avg       0.65      0.66      0.65       304\n",
            "\n"
          ]
        }
      ]
    },
    {
      "cell_type": "markdown",
      "source": [
        "#XAI"
      ],
      "metadata": {
        "id": "ZjnMmojbiXx4"
      }
    },
    {
      "cell_type": "code",
      "execution_count": null,
      "metadata": {
        "id": "H86jyEnP85Xt"
      },
      "outputs": [],
      "source": [
        "# Function to apply Grad-CAM\n",
        "def grad_cam(model, image, layer_name):\n",
        "    grad_model = tf.keras.models.Model(\n",
        "        [model.inputs], [model.get_layer(layer_name).output, model.output]\n",
        "    )\n",
        "    with tf.GradientTape() as tape:\n",
        "        conv_outputs, predictions = grad_model(image)\n",
        "        class_index = np.argmax(predictions[0])\n",
        "        loss = predictions[:, class_index]\n",
        "\n",
        "    output = conv_outputs[0]\n",
        "    grads = tape.gradient(loss, conv_outputs)[0]\n",
        "    guided_grads = tf.cast(output > 0, 'float32') * tf.cast(grads > 0, 'float32') * grads\n",
        "    weights = tf.reduce_mean(guided_grads, axis=(0, 1))\n",
        "\n",
        "    cam = np.dot(output, weights)\n",
        "    cam = cv2.resize(cam, (image.shape[2], image.shape[1]))\n",
        "    cam = np.maximum(cam, 0)\n",
        "    cam = cam / np.max(cam)\n",
        "\n",
        "    return cam"
      ]
    },
    {
      "cell_type": "code",
      "execution_count": null,
      "metadata": {
        "id": "ioQmq9NsABwy"
      },
      "outputs": [],
      "source": [
        "index_to_label = {0: 'happy', 1: 'neutral', 2: 'sad'}"
      ]
    },
    {
      "cell_type": "code",
      "source": [
        "image_path = '/content/WhatsApp Image 2023-06-24 at 11.24.48 PM.jpeg'\n",
        "image = cv2.imread(image_path)\n",
        "image = cv2.cvtColor(image, cv2.COLOR_BGR2RGB)\n",
        "\n",
        "# Resize the image to the desired dimensions\n",
        "image_height, image_width = 64, 64\n",
        "image = cv2.resize(image, (image_width, image_height))\n",
        "\n",
        "# Preprocess the image\n",
        "image = image / 255.0\n",
        "image = np.expand_dims(image, axis=0)\n",
        "\n",
        "# Apply Grad-CAM to the model\n",
        "heatmap = grad_cam(model, image, 'conv2d_7')\n",
        "heatmap = cv2.resize(heatmap, (image.shape[2], image.shape[1]))\n",
        "\n",
        "# Normalize the heatmap between 0 and 255\n",
        "heatmap = np.uint8(255 * heatmap)\n",
        "\n",
        "# Apply color map to the heatmap\n",
        "heatmap = cv2.applyColorMap(heatmap, cv2.COLORMAP_JET)\n",
        "heatmap = heatmap.astype(np.float32)  # Explicitly specify the data type as float32\n",
        "\n",
        "# Superimpose the heatmap on the original image\n",
        "superimposed_img = cv2.addWeighted(image[0], 0.6, heatmap, 0.4, 0, dtype=cv2.CV_32F)\n",
        "\n",
        "# Get the predicted class index\n",
        "predictions = model.predict(image)\n",
        "predicted_class_index = np.argmax(predictions[0])\n",
        "\n",
        "# Map the class index to the label\n",
        "index_to_label = {0: 'happy', 1: 'neutral', 2: 'sad'}\n",
        "predicted_class_label = index_to_label[predicted_class_index]\n",
        "heatmap = heatmap.astype(np.uint8)\n",
        "\n",
        "# Apply color map to the heatmap\n",
        "heatmap_colored = cv2.applyColorMap(heatmap, cv2.COLORMAP_JET)\n",
        "\n",
        "heatmap_colored = cv2.applyColorMap(heatmap, cv2.COLORMAP_HOT)\n",
        "heatmap_colored = heatmap_colored.astype(np.float32)  # Explicitly specify the data type as float32\n",
        "\n",
        "# Superimpose the colored heatmap on the original image\n",
        "superimposed_img_colored = cv2.addWeighted(image[0], 0.6, heatmap_colored, 0.4, 0, dtype=cv2.CV_32F)\n",
        "\n",
        "# Display the original image, colored heatmap, superimposed image, and predicted class\n",
        "fig, ax = plt.subplots(1, 4, figsize=(15, 4))\n",
        "ax[0].imshow(image[0])\n",
        "ax[0].set_title('Original Image')\n",
        "ax[1].imshow(heatmap_colored)\n",
        "ax[1].set_title('Colored Heatmap')\n",
        "ax[2].imshow(superimposed_img_colored)\n",
        "ax[2].set_title('Superimposed Image with Colored Heatmap')\n",
        "ax[3].axis('off')\n",
        "ax[3].text(0.5, 0.5, f'Predicted Class: {predicted_class_label}', fontsize=12, ha='center')\n",
        "\n",
        "plt.tight_layout()\n",
        "plt.show()"
      ],
      "metadata": {
        "colab": {
          "base_uri": "https://localhost:8080/",
          "height": 463
        },
        "id": "xaKE3V9ioLsL",
        "outputId": "a803f8fd-b7a0-44da-a668-de756cf272c2"
      },
      "execution_count": null,
      "outputs": [
        {
          "output_type": "stream",
          "name": "stdout",
          "text": [
            "1/1 [==============================] - 0s 22ms/step\n"
          ]
        },
        {
          "output_type": "stream",
          "name": "stderr",
          "text": [
            "WARNING:matplotlib.image:Clipping input data to the valid range for imshow with RGB data ([0..1] for floats or [0..255] for integers).\n",
            "WARNING:matplotlib.image:Clipping input data to the valid range for imshow with RGB data ([0..1] for floats or [0..255] for integers).\n"
          ]
        },
        {
          "output_type": "display_data",
          "data": {
            "text/plain": [
              "<Figure size 1500x400 with 4 Axes>"
            ],
            "image/png": "[encoded data removed]"
          },
          "metadata": {}
        }
      ]
    },
    {
      "cell_type": "code",
      "source": [
        "def occlusion_saliency(model, image, target_class, patch_size, stride):\n",
        "    height, width, _ = image.shape\n",
        "    saliency_map = np.zeros((height, width))\n",
        "\n",
        "    for y in range(0, height, stride):\n",
        "        for x in range(0, width, stride):\n",
        "            occluded_image = image.copy()\n",
        "            occluded_image[y:y+patch_size, x:x+patch_size, :] = 0\n",
        "\n",
        "            prediction = model.predict(np.expand_dims(occluded_image, axis=0))\n",
        "            probability = prediction[0][target_class]\n",
        "\n",
        "            saliency_map[y:y+patch_size, x:x+patch_size] = probability\n",
        "\n",
        "    return saliency_map\n",
        "\n",
        "\n",
        "# Load and preprocess the input image\n",
        "input_image = preprocess_image('/content/WhatsApp Image 2023-06-24 at 11.24.48 PM.jpeg')\n",
        "\n",
        "# Expand dimensions to match the model's input shape\n",
        "input_image = np.expand_dims(input_image, axis=0)\n",
        "\n",
        "# Set parameters for occlusion saliency\n",
        "target_class = 0  # Index of the target class for which saliency is computed\n",
        "patch_size = 8  # Size of the occlusion patch\n",
        "stride = 4  # Stride for the occlusion patch\n",
        "\n",
        "# Compute occlusion saliency\n",
        "saliency_map = occlusion_saliency(model, input_image[0], target_class, patch_size, stride)\n",
        "\n",
        "# Normalize the saliency map\n",
        "saliency_map = (saliency_map - np.min(saliency_map)) / (np.max(saliency_map) - np.min(saliency_map))\n",
        "\n",
        "# Plot the saliency map\n",
        "plt.imshow(saliency_map, cmap='cool', interpolation='nearest')\n",
        "plt.axis('off')\n",
        "plt.show()"
      ],
      "metadata": {
        "colab": {
          "base_uri": "https://localhost:8080/",
          "height": 1000
        },
        "id": "kde1gqIMlESW",
        "outputId": "8d1624e7-d762-41e3-9555-e4715a01a94a"
      },
      "execution_count": null,
      "outputs": [
        {
          "output_type": "stream",
          "name": "stdout",
          "text": [
            "1/1 [==============================] - 0s 354ms/step\n",
            "1/1 [==============================] - 0s 61ms/step\n",
            "1/1 [==============================] - 0s 66ms/step\n",
            "1/1 [==============================] - 0s 23ms/step\n",
            "1/1 [==============================] - 0s 20ms/step\n",
            "1/1 [==============================] - 0s 20ms/step\n",
            "1/1 [==============================] - 0s 25ms/step\n",
            "1/1 [==============================] - 0s 18ms/step\n",
            "1/1 [==============================] - 0s 19ms/step\n",
            "1/1 [==============================] - 0s 21ms/step\n",
            "1/1 [==============================] - 0s 20ms/step\n",
            "1/1 [==============================] - 0s 21ms/step\n",
            "1/1 [==============================] - 0s 17ms/step\n",
            "1/1 [==============================] - 0s 18ms/step\n",
            "1/1 [==============================] - 0s 20ms/step\n",
            "1/1 [==============================] - 0s 19ms/step\n",
            "1/1 [==============================] - 0s 21ms/step\n",
            "1/1 [==============================] - 0s 18ms/step\n",
            "1/1 [==============================] - 0s 21ms/step\n",
            "1/1 [==============================] - 0s 21ms/step\n",
            "1/1 [==============================] - 0s 19ms/step\n",
            "1/1 [==============================] - 0s 18ms/step\n",
            "1/1 [==============================] - 0s 19ms/step\n",
            "1/1 [==============================] - 0s 18ms/step\n",
            "1/1 [==============================] - 0s 18ms/step\n",
            "1/1 [==============================] - 0s 19ms/step\n",
            "1/1 [==============================] - 0s 19ms/step\n",
            "1/1 [==============================] - 0s 19ms/step\n",
            "1/1 [==============================] - 0s 21ms/step\n",
            "1/1 [==============================] - 0s 20ms/step\n",
            "1/1 [==============================] - 0s 20ms/step\n",
            "1/1 [==============================] - 0s 32ms/step\n",
            "1/1 [==============================] - 0s 18ms/step\n",
            "1/1 [==============================] - 0s 19ms/step\n",
            "1/1 [==============================] - 0s 19ms/step\n",
            "1/1 [==============================] - 0s 18ms/step\n",
            "1/1 [==============================] - 0s 19ms/step\n",
            "1/1 [==============================] - 0s 22ms/step\n",
            "1/1 [==============================] - 0s 20ms/step\n",
            "1/1 [==============================] - 0s 22ms/step\n",
            "1/1 [==============================] - 0s 21ms/step\n",
            "1/1 [==============================] - 0s 18ms/step\n",
            "1/1 [==============================] - 0s 21ms/step\n",
            "1/1 [==============================] - 0s 21ms/step\n",
            "1/1 [==============================] - 0s 19ms/step\n",
            "1/1 [==============================] - 0s 29ms/step\n",
            "1/1 [==============================] - 0s 21ms/step\n",
            "1/1 [==============================] - 0s 19ms/step\n",
            "1/1 [==============================] - 0s 19ms/step\n",
            "1/1 [==============================] - 0s 18ms/step\n",
            "1/1 [==============================] - 0s 19ms/step\n",
            "1/1 [==============================] - 0s 18ms/step\n",
            "1/1 [==============================] - 0s 19ms/step\n",
            "1/1 [==============================] - 0s 20ms/step\n",
            "1/1 [==============================] - 0s 21ms/step\n",
            "1/1 [==============================] - 0s 20ms/step\n",
            "1/1 [==============================] - 0s 18ms/step\n",
            "1/1 [==============================] - 0s 19ms/step\n",
            "1/1 [==============================] - 0s 18ms/step\n",
            "1/1 [==============================] - 0s 29ms/step\n",
            "1/1 [==============================] - 0s 18ms/step\n",
            "1/1 [==============================] - 0s 18ms/step\n",
            "1/1 [==============================] - 0s 24ms/step\n",
            "1/1 [==============================] - 0s 21ms/step\n",
            "1/1 [==============================] - 0s 19ms/step\n",
            "1/1 [==============================] - 0s 19ms/step\n",
            "1/1 [==============================] - 0s 18ms/step\n",
            "1/1 [==============================] - 0s 18ms/step\n",
            "1/1 [==============================] - 0s 18ms/step\n",
            "1/1 [==============================] - 0s 20ms/step\n",
            "1/1 [==============================] - 0s 25ms/step\n",
            "1/1 [==============================] - 0s 22ms/step\n",
            "1/1 [==============================] - 0s 22ms/step\n",
            "1/1 [==============================] - 0s 19ms/step\n",
            "1/1 [==============================] - 0s 19ms/step\n",
            "1/1 [==============================] - 0s 20ms/step\n",
            "1/1 [==============================] - 0s 18ms/step\n",
            "1/1 [==============================] - 0s 18ms/step\n",
            "1/1 [==============================] - 0s 19ms/step\n",
            "1/1 [==============================] - 0s 18ms/step\n",
            "1/1 [==============================] - 0s 21ms/step\n",
            "1/1 [==============================] - 0s 20ms/step\n",
            "1/1 [==============================] - 0s 22ms/step\n",
            "1/1 [==============================] - 0s 25ms/step\n",
            "1/1 [==============================] - 0s 18ms/step\n",
            "1/1 [==============================] - 0s 21ms/step\n",
            "1/1 [==============================] - 0s 22ms/step\n",
            "1/1 [==============================] - 0s 18ms/step\n",
            "1/1 [==============================] - 0s 21ms/step\n",
            "1/1 [==============================] - 0s 22ms/step\n",
            "1/1 [==============================] - 0s 20ms/step\n",
            "1/1 [==============================] - 0s 22ms/step\n",
            "1/1 [==============================] - 0s 19ms/step\n",
            "1/1 [==============================] - 0s 20ms/step\n",
            "1/1 [==============================] - 0s 21ms/step\n",
            "1/1 [==============================] - 0s 21ms/step\n",
            "1/1 [==============================] - 0s 21ms/step\n",
            "1/1 [==============================] - 0s 18ms/step\n",
            "1/1 [==============================] - 0s 18ms/step\n",
            "1/1 [==============================] - 0s 23ms/step\n",
            "1/1 [==============================] - 0s 19ms/step\n",
            "1/1 [==============================] - 0s 19ms/step\n",
            "1/1 [==============================] - 0s 32ms/step\n",
            "1/1 [==============================] - 0s 28ms/step\n",
            "1/1 [==============================] - 0s 29ms/step\n",
            "1/1 [==============================] - 0s 29ms/step\n",
            "1/1 [==============================] - 0s 30ms/step\n",
            "1/1 [==============================] - 0s 32ms/step\n",
            "1/1 [==============================] - 0s 29ms/step\n",
            "1/1 [==============================] - 0s 33ms/step\n",
            "1/1 [==============================] - 0s 28ms/step\n",
            "1/1 [==============================] - 0s 28ms/step\n",
            "1/1 [==============================] - 0s 28ms/step\n",
            "1/1 [==============================] - 0s 33ms/step\n",
            "1/1 [==============================] - 0s 30ms/step\n",
            "1/1 [==============================] - 0s 27ms/step\n",
            "1/1 [==============================] - 0s 27ms/step\n",
            "1/1 [==============================] - 0s 27ms/step\n",
            "1/1 [==============================] - 0s 28ms/step\n",
            "1/1 [==============================] - 0s 29ms/step\n",
            "1/1 [==============================] - 0s 28ms/step\n",
            "1/1 [==============================] - 0s 34ms/step\n",
            "1/1 [==============================] - 0s 31ms/step\n",
            "1/1 [==============================] - 0s 28ms/step\n",
            "1/1 [==============================] - 0s 30ms/step\n",
            "1/1 [==============================] - 0s 31ms/step\n",
            "1/1 [==============================] - 0s 40ms/step\n",
            "1/1 [==============================] - 0s 27ms/step\n",
            "1/1 [==============================] - 0s 28ms/step\n",
            "1/1 [==============================] - 0s 29ms/step\n",
            "1/1 [==============================] - 0s 31ms/step\n",
            "1/1 [==============================] - 0s 28ms/step\n",
            "1/1 [==============================] - 0s 29ms/step\n",
            "1/1 [==============================] - 0s 34ms/step\n",
            "1/1 [==============================] - 0s 31ms/step\n",
            "1/1 [==============================] - 0s 32ms/step\n",
            "1/1 [==============================] - 0s 30ms/step\n",
            "1/1 [==============================] - 0s 29ms/step\n",
            "1/1 [==============================] - 0s 30ms/step\n",
            "1/1 [==============================] - 0s 33ms/step\n",
            "1/1 [==============================] - 0s 31ms/step\n",
            "1/1 [==============================] - 0s 28ms/step\n",
            "1/1 [==============================] - 0s 27ms/step\n",
            "1/1 [==============================] - 0s 32ms/step\n",
            "1/1 [==============================] - 0s 37ms/step\n",
            "1/1 [==============================] - 0s 32ms/step\n",
            "1/1 [==============================] - 0s 30ms/step\n",
            "1/1 [==============================] - 0s 32ms/step\n",
            "1/1 [==============================] - 0s 19ms/step\n",
            "1/1 [==============================] - 0s 19ms/step\n",
            "1/1 [==============================] - 0s 20ms/step\n",
            "1/1 [==============================] - 0s 23ms/step\n",
            "1/1 [==============================] - 0s 19ms/step\n",
            "1/1 [==============================] - 0s 21ms/step\n",
            "1/1 [==============================] - 0s 20ms/step\n",
            "1/1 [==============================] - 0s 18ms/step\n",
            "1/1 [==============================] - 0s 18ms/step\n",
            "1/1 [==============================] - 0s 21ms/step\n",
            "1/1 [==============================] - 0s 22ms/step\n",
            "1/1 [==============================] - 0s 20ms/step\n",
            "1/1 [==============================] - 0s 20ms/step\n",
            "1/1 [==============================] - 0s 19ms/step\n",
            "1/1 [==============================] - 0s 20ms/step\n",
            "1/1 [==============================] - 0s 18ms/step\n",
            "1/1 [==============================] - 0s 17ms/step\n",
            "1/1 [==============================] - 0s 17ms/step\n",
            "1/1 [==============================] - 0s 17ms/step\n",
            "1/1 [==============================] - 0s 19ms/step\n",
            "1/1 [==============================] - 0s 18ms/step\n",
            "1/1 [==============================] - 0s 22ms/step\n",
            "1/1 [==============================] - 0s 20ms/step\n",
            "1/1 [==============================] - 0s 19ms/step\n",
            "1/1 [==============================] - 0s 19ms/step\n",
            "1/1 [==============================] - 0s 18ms/step\n",
            "1/1 [==============================] - 0s 18ms/step\n",
            "1/1 [==============================] - 0s 18ms/step\n",
            "1/1 [==============================] - 0s 18ms/step\n",
            "1/1 [==============================] - 0s 21ms/step\n",
            "1/1 [==============================] - 0s 21ms/step\n",
            "1/1 [==============================] - 0s 25ms/step\n",
            "1/1 [==============================] - 0s 19ms/step\n",
            "1/1 [==============================] - 0s 20ms/step\n",
            "1/1 [==============================] - 0s 19ms/step\n",
            "1/1 [==============================] - 0s 22ms/step\n",
            "1/1 [==============================] - 0s 19ms/step\n",
            "1/1 [==============================] - 0s 21ms/step\n",
            "1/1 [==============================] - 0s 22ms/step\n",
            "1/1 [==============================] - 0s 20ms/step\n",
            "1/1 [==============================] - 0s 19ms/step\n",
            "1/1 [==============================] - 0s 19ms/step\n",
            "1/1 [==============================] - 0s 21ms/step\n",
            "1/1 [==============================] - 0s 20ms/step\n",
            "1/1 [==============================] - 0s 19ms/step\n",
            "1/1 [==============================] - 0s 21ms/step\n",
            "1/1 [==============================] - 0s 19ms/step\n",
            "1/1 [==============================] - 0s 21ms/step\n",
            "1/1 [==============================] - 0s 21ms/step\n",
            "1/1 [==============================] - 0s 21ms/step\n",
            "1/1 [==============================] - 0s 22ms/step\n",
            "1/1 [==============================] - 0s 20ms/step\n",
            "1/1 [==============================] - 0s 20ms/step\n",
            "1/1 [==============================] - 0s 20ms/step\n",
            "1/1 [==============================] - 0s 21ms/step\n",
            "1/1 [==============================] - 0s 19ms/step\n",
            "1/1 [==============================] - 0s 20ms/step\n",
            "1/1 [==============================] - 0s 21ms/step\n",
            "1/1 [==============================] - 0s 21ms/step\n",
            "1/1 [==============================] - 0s 27ms/step\n",
            "1/1 [==============================] - 0s 18ms/step\n",
            "1/1 [==============================] - 0s 18ms/step\n",
            "1/1 [==============================] - 0s 18ms/step\n",
            "1/1 [==============================] - 0s 20ms/step\n",
            "1/1 [==============================] - 0s 23ms/step\n",
            "1/1 [==============================] - 0s 25ms/step\n",
            "1/1 [==============================] - 0s 22ms/step\n",
            "1/1 [==============================] - 0s 21ms/step\n",
            "1/1 [==============================] - 0s 20ms/step\n",
            "1/1 [==============================] - 0s 20ms/step\n",
            "1/1 [==============================] - 0s 17ms/step\n",
            "1/1 [==============================] - 0s 17ms/step\n",
            "1/1 [==============================] - 0s 21ms/step\n",
            "1/1 [==============================] - 0s 20ms/step\n",
            "1/1 [==============================] - 0s 18ms/step\n",
            "1/1 [==============================] - 0s 20ms/step\n",
            "1/1 [==============================] - 0s 18ms/step\n",
            "1/1 [==============================] - 0s 28ms/step\n",
            "1/1 [==============================] - 0s 20ms/step\n",
            "1/1 [==============================] - 0s 18ms/step\n",
            "1/1 [==============================] - 0s 19ms/step\n",
            "1/1 [==============================] - 0s 20ms/step\n",
            "1/1 [==============================] - 0s 22ms/step\n",
            "1/1 [==============================] - 0s 21ms/step\n",
            "1/1 [==============================] - 0s 22ms/step\n",
            "1/1 [==============================] - 0s 24ms/step\n",
            "1/1 [==============================] - 0s 19ms/step\n",
            "1/1 [==============================] - 0s 19ms/step\n",
            "1/1 [==============================] - 0s 18ms/step\n",
            "1/1 [==============================] - 0s 18ms/step\n",
            "1/1 [==============================] - 0s 18ms/step\n",
            "1/1 [==============================] - 0s 19ms/step\n",
            "1/1 [==============================] - 0s 24ms/step\n",
            "1/1 [==============================] - 0s 18ms/step\n",
            "1/1 [==============================] - 0s 20ms/step\n",
            "1/1 [==============================] - 0s 18ms/step\n",
            "1/1 [==============================] - 0s 21ms/step\n",
            "1/1 [==============================] - 0s 18ms/step\n",
            "1/1 [==============================] - 0s 20ms/step\n",
            "1/1 [==============================] - 0s 18ms/step\n",
            "1/1 [==============================] - 0s 18ms/step\n",
            "1/1 [==============================] - 0s 19ms/step\n",
            "1/1 [==============================] - 0s 20ms/step\n",
            "1/1 [==============================] - 0s 19ms/step\n",
            "1/1 [==============================] - 0s 20ms/step\n",
            "1/1 [==============================] - 0s 20ms/step\n",
            "1/1 [==============================] - 0s 19ms/step\n",
            "1/1 [==============================] - 0s 20ms/step\n"
          ]
        },
        {
          "output_type": "display_data",
          "data": {
            "text/plain": [
              "<Figure size 640x480 with 1 Axes>"
            ],
            "image/png": "[encoded data removed]"
          },
          "metadata": {}
        }
      ]
    }
  ],
  "metadata": {
    "colab": {
      "provenance": []
    },
    "kernelspec": {
      "display_name": "Python 3",
      "name": "python3"
    },
    "language_info": {
      "name": "python"
    }
  },
  "nbformat": 4,
  "nbformat_minor": 0
}